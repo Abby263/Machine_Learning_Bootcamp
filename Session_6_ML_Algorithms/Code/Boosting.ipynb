{
 "cells": [
  {
   "cell_type": "code",
   "execution_count": 1,
   "metadata": {},
   "outputs": [],
   "source": [
    "# Import the required packages\n",
    "from sklearn.ensemble import AdaBoostClassifier\n",
    "from sklearn.preprocessing import LabelEncoder\n",
    "from sklearn.tree import DecisionTreeClassifier\n",
    "import pandas as pd\n",
    "# Import train_test_split function\n",
    "from sklearn.model_selection import train_test_split\n",
    "#Import scikit-learn metrics module for accuracy calculation\n",
    "from sklearn import metrics"
   ]
  },
  {
   "cell_type": "code",
   "execution_count": 2,
   "metadata": {},
   "outputs": [],
   "source": [
    "# Load in the data\n",
    "dataset = pd.read_csv('/Machine_Learning_Bootcamp/Session_4_EDA/Data/mushrooms.csv')"
   ]
  },
  {
   "cell_type": "code",
   "execution_count": 3,
   "metadata": {},
   "outputs": [],
   "source": [
    "#Define the column names\n",
    "dataset.columns = ['target','cap-shape','cap-surface','cap-color','bruises','odor','gill-attachment','gill-spacing',\n",
    "'gill-size','gill-color','stalk-shape','stalk-root','stalk-surface-above-ring','stalk-surface-below-ring','stalk-color-above-ring',\n",
    "'stalk-color-below-ring','veil-type','veil-color','ring-number','ring-type','spore-print-color','population',\n",
    "'habitat']"
   ]
  },
  {
   "cell_type": "code",
   "execution_count": 4,
   "metadata": {},
   "outputs": [],
   "source": [
    "for label in dataset.columns:\n",
    "    dataset[label] = LabelEncoder().fit(dataset[label]).transform(dataset[label])\n"
   ]
  },
  {
   "cell_type": "code",
   "execution_count": 5,
   "metadata": {},
   "outputs": [
    {
     "name": "stdout",
     "output_type": "stream",
     "text": [
      "<class 'pandas.core.frame.DataFrame'>\n",
      "RangeIndex: 8124 entries, 0 to 8123\n",
      "Data columns (total 23 columns):\n",
      "target                      8124 non-null int64\n",
      "cap-shape                   8124 non-null int64\n",
      "cap-surface                 8124 non-null int64\n",
      "cap-color                   8124 non-null int64\n",
      "bruises                     8124 non-null int64\n",
      "odor                        8124 non-null int64\n",
      "gill-attachment             8124 non-null int64\n",
      "gill-spacing                8124 non-null int64\n",
      "gill-size                   8124 non-null int64\n",
      "gill-color                  8124 non-null int64\n",
      "stalk-shape                 8124 non-null int64\n",
      "stalk-root                  8124 non-null int64\n",
      "stalk-surface-above-ring    8124 non-null int64\n",
      "stalk-surface-below-ring    8124 non-null int64\n",
      "stalk-color-above-ring      8124 non-null int64\n",
      "stalk-color-below-ring      8124 non-null int64\n",
      "veil-type                   8124 non-null int64\n",
      "veil-color                  8124 non-null int64\n",
      "ring-number                 8124 non-null int64\n",
      "ring-type                   8124 non-null int64\n",
      "spore-print-color           8124 non-null int64\n",
      "population                  8124 non-null int64\n",
      "habitat                     8124 non-null int64\n",
      "dtypes: int64(23)\n",
      "memory usage: 1.4 MB\n",
      "None\n"
     ]
    }
   ],
   "source": [
    "#Display information about the data set\n",
    "print(dataset.info())"
   ]
  },
  {
   "cell_type": "code",
   "execution_count": 6,
   "metadata": {},
   "outputs": [],
   "source": [
    "# Data Slicing\n",
    "X = dataset.drop(['target'], axis=1)\n",
    "Y = dataset['target']\n",
    "X_train, X_test, Y_train, Y_test = train_test_split(X, Y, test_size=0.3)"
   ]
  },
  {
   "cell_type": "code",
   "execution_count": 7,
   "metadata": {},
   "outputs": [],
   "source": [
    "model = DecisionTreeClassifier(criterion='entropy', max_depth=1)\n",
    "AdaBoost = AdaBoostClassifier(base_estimator=model, n_estimators=400, learning_rate=1)"
   ]
  },
  {
   "cell_type": "code",
   "execution_count": 8,
   "metadata": {},
   "outputs": [],
   "source": [
    "#Fit the model with training data\n",
    "boostmodel = AdaBoost.fit(X_train, Y_train)"
   ]
  },
  {
   "cell_type": "code",
   "execution_count": 10,
   "metadata": {},
   "outputs": [
    {
     "name": "stdout",
     "output_type": "stream",
     "text": [
      "The accuracy is:  100.0 %\n"
     ]
    }
   ],
   "source": [
    "#Evaluate the accuracy of the model\n",
    "y_pred = boostmodel.predict(X_test)\n",
    "predictions = metrics.accuracy_score(Y_test, y_pred)\n",
    "#Calculating the accuracy in percentage\n",
    "print('The accuracy is: ', predictions * 100, '%')\n"
   ]
  },
  {
   "cell_type": "code",
   "execution_count": null,
   "metadata": {},
   "outputs": [],
   "source": []
  }
 ],
 "metadata": {
  "kernelspec": {
   "display_name": "py3",
   "language": "python",
   "name": "py3"
  },
  "language_info": {
   "codemirror_mode": {
    "name": "ipython",
    "version": 3
   },
   "file_extension": ".py",
   "mimetype": "text/x-python",
   "name": "python",
   "nbconvert_exporter": "python",
   "pygments_lexer": "ipython3",
   "version": "3.5.2"
  }
 },
 "nbformat": 4,
 "nbformat_minor": 2
}
