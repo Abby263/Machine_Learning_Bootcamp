{
 "cells": [
  {
   "cell_type": "code",
   "execution_count": 4,
   "metadata": {},
   "outputs": [
    {
     "name": "stdout",
     "output_type": "stream",
     "text": [
      "Accuracy for k = 2 is: 0.9333333333333333\n",
      "Accuracy for k = 3 is: 0.9333333333333333\n",
      "Accuracy for k = 4 is: 0.9333333333333333\n",
      "Accuracy for k = 5 is: 0.9555555555555556\n",
      "Accuracy for k = 6 is: 0.9777777777777777\n",
      "Accuracy for k = 7 is: 0.9555555555555556\n",
      "Accuracy for k = 8 is: 0.9555555555555556\n",
      "Accuracy for k = 9 is: 0.9555555555555556\n",
      "Accuracy for k = 10 is: 0.9777777777777777\n",
      "Accuracy for k = 11 is: 0.9777777777777777\n",
      "Accuracy for k = 12 is: 0.9777777777777777\n",
      "Accuracy for k = 13 is: 0.9333333333333333\n",
      "Accuracy for k = 14 is: 0.9555555555555556\n",
      "Accuracy for k = 15 is: 0.9555555555555556\n",
      "Accuracy for k = 16 is: 0.9333333333333333\n",
      "Accuracy for k = 17 is: 0.9333333333333333\n",
      "Accuracy for k = 18 is: 0.9333333333333333\n",
      "Accuracy for k = 19 is: 0.9333333333333333\n",
      "Accuracy for k = 20 is: 0.9555555555555556\n",
      "Accuracy for k = 21 is: 0.9555555555555556\n",
      "Accuracy for k = 22 is: 0.9555555555555556\n",
      "Accuracy for k = 23 is: 0.9111111111111111\n",
      "Accuracy for k = 24 is: 0.9333333333333333\n",
      "Accuracy for k = 25 is: 0.9333333333333333\n",
      "Accuracy for k = 26 is: 0.9111111111111111\n",
      "Accuracy for k = 27 is: 0.9333333333333333\n",
      "Accuracy for k = 28 is: 0.9333333333333333\n",
      "Accuracy for k = 29 is: 0.9333333333333333\n"
     ]
    }
   ],
   "source": [
    "# load necessary libraries\n",
    "import pandas as pd\n",
    "from sklearn import datasets\n",
    "from sklearn.model_selection import train_test_split\n",
    "from sklearn.preprocessing import StandardScaler\n",
    "from sklearn.neighbors import KNeighborsClassifier\n",
    "from sklearn.metrics import accuracy_score\n",
    "\n",
    "# load Iris dataset\n",
    "iris = datasets.load_iris()\n",
    "\n",
    "# get X (features) and y (target) from whole dataset\n",
    "X = iris.data\n",
    "y = iris.target\n",
    "\n",
    "# split them in train and test parts\n",
    "X_train, X_test, y_train, y_test = train_test_split(X, y, test_size=0.3, random_state=5)\n",
    "\n",
    "# standardize features by removing the mean and scaling to unit variance\n",
    "sc_x = StandardScaler()\n",
    "X_train = sc_x.fit_transform(X_train)\n",
    "X_test = sc_x.transform(X_test)\n",
    "\n",
    "# Apply knn algorithm with multiple values of k on Iris dataset and find the best k\n",
    "for k in range(2,30):\n",
    "    classifier = KNeighborsClassifier(n_neighbors=k)\n",
    "    classifier.fit(X_train, y_train)\n",
    "    y_preds = classifier.predict(X_test)\n",
    "    print (\"Accuracy for k =\", k, \"is:\", accuracy_score(y_test, y_preds))  "
   ]
  },
  {
   "cell_type": "code",
   "execution_count": null,
   "metadata": {},
   "outputs": [],
   "source": []
  }
 ],
 "metadata": {
  "kernelspec": {
   "display_name": "py3",
   "language": "python",
   "name": "py3"
  },
  "language_info": {
   "codemirror_mode": {
    "name": "ipython",
    "version": 3
   },
   "file_extension": ".py",
   "mimetype": "text/x-python",
   "name": "python",
   "nbconvert_exporter": "python",
   "pygments_lexer": "ipython3",
   "version": "3.5.2"
  }
 },
 "nbformat": 4,
 "nbformat_minor": 2
}
