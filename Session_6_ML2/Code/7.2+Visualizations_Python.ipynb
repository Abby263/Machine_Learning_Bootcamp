{
 "cells": [
  {
   "cell_type": "code",
   "execution_count": null,
   "metadata": {
    "collapsed": false
   },
   "outputs": [],
   "source": [
    "import os\n",
    "import pandas as pd\n",
    "from ggplot import *"
   ]
  },
  {
   "cell_type": "code",
   "execution_count": null,
   "metadata": {
    "collapsed": true
   },
   "outputs": [],
   "source": [
    "#Set working directory\n",
    "os.chdir(\"E:\\Others\\Edwisor\\ContentRevamp\\MarketingCampaign\")"
   ]
  },
  {
   "cell_type": "code",
   "execution_count": null,
   "metadata": {
    "collapsed": false
   },
   "outputs": [],
   "source": [
    "#Load data\n",
    "marketing_train = pd.read_csv(\"marketing_train_missing.csv\")"
   ]
  },
  {
   "cell_type": "code",
   "execution_count": null,
   "metadata": {
    "collapsed": false
   },
   "outputs": [],
   "source": [
    "#bar plot\n",
    "ggplot(marketing_train, aes(x='profession', y='campaign')) +\\\n",
    "    geom_bar(fill= \"DarkSlateBlue\") +\\\n",
    "    scale_color_brewer(type='diverging', palette=4) +\\\n",
    "    xlab(\"Profession\") + ylab(\"Campaign\") + ggtitle(\"Marketing Analysis\") + theme_bw()"
   ]
  },
  {
   "cell_type": "code",
   "execution_count": null,
   "metadata": {
    "collapsed": false
   },
   "outputs": [],
   "source": [
    "#Histogram \n",
    "ggplot(marketing_train, aes(x = 'custAge')) + geom_histogram(fill=\"DarkSlateBlue\", colour = \"black\") +\\\n",
    "    geom_density() +\\\n",
    "    theme_bw() + xlab(\"Age\") + ylab(\"Frequency\") + ggtitle(\"Marketing Campaign Analysis\") +\\\n",
    "    theme(text=element_text(size=20))"
   ]
  },
  {
   "cell_type": "code",
   "execution_count": null,
   "metadata": {
    "collapsed": false
   },
   "outputs": [],
   "source": [
    "##Box plot\n",
    "ggplot(marketing_train, aes(x = 'responded', y = 'custAge', fill = 'responded')) +\\\n",
    "    geom_boxplot(fill = 'responded')+ theme_bw() + xlab(\"Responded\") + ylab(\"Customer Age\") +\\\n",
    "    ggtitle(\"Outlier Analysis\") +\\\n",
    "    theme(text=element_text(size=30))"
   ]
  },
  {
   "cell_type": "code",
   "execution_count": null,
   "metadata": {
    "collapsed": false
   },
   "outputs": [],
   "source": [
    "#Multivariate #Scatter Plot #shape = 'profession'\n",
    "ggplot(marketing_train, aes(x = 'campaign', y = 'custAge', color='responded', shape = 'profession')) + \\\n",
    "    geom_point(alpha = 1, size = 50) + theme_bw()+ ylab(\"Age\") + xlab(\"Campaign\") + ggtitle(\"Scatter Plot Analysis\")"
   ]
  },
  {
   "cell_type": "code",
   "execution_count": null,
   "metadata": {
    "collapsed": true
   },
   "outputs": [],
   "source": []
  }
 ],
 "metadata": {
  "anaconda-cloud": {},
  "kernelspec": {
   "display_name": "Python [default]",
   "language": "python",
   "name": "python2"
  },
  "language_info": {
   "codemirror_mode": {
    "name": "ipython",
    "version": 2
   },
   "file_extension": ".py",
   "mimetype": "text/x-python",
   "name": "python",
   "nbconvert_exporter": "python",
   "pygments_lexer": "ipython2",
   "version": "2.7.12"
  }
 },
 "nbformat": 4,
 "nbformat_minor": 1
}
