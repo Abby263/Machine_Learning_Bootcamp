{
 "cells": [
  {
   "cell_type": "code",
   "execution_count": 3,
   "metadata": {},
   "outputs": [],
   "source": [
    "#Set working directory\n",
    "import os\n",
    "os.chdir(\"C:/Users/ABHAY RAJ SINGH/Desktop/DS_Trainer/Session_3\")"
   ]
  },
  {
   "cell_type": "code",
   "execution_count": null,
   "metadata": {},
   "outputs": [],
   "source": [
    "#Python Numpy Tutorial\n",
    "#https://www.edureka.co/blog/python-numpy-tutorial/"
   ]
  },
  {
   "cell_type": "code",
   "execution_count": 4,
   "metadata": {},
   "outputs": [
    {
     "data": {
      "text/plain": [
       "array([0, 1, 2, 3, 4, 5, 6, 7, 8, 9])"
      ]
     },
     "execution_count": 4,
     "metadata": {},
     "output_type": "execute_result"
    }
   ],
   "source": [
    "#Create array\n",
    "import numpy as np\n",
    "np.arange(10)"
   ]
  },
  {
   "cell_type": "code",
   "execution_count": null,
   "metadata": {
    "collapsed": true
   },
   "outputs": [],
   "source": [
    "#Create list\n",
    "lis = [\"India\", 5, 6, 7]"
   ]
  },
  {
   "cell_type": "code",
   "execution_count": null,
   "metadata": {},
   "outputs": [],
   "source": [
    "sample_matrix = np.matrix('1 2 3; 3 4 5')"
   ]
  },
  {
   "cell_type": "code",
   "execution_count": null,
   "metadata": {},
   "outputs": [],
   "source": [
    "#transpose matrix\n",
    "np.transpose(sample_matrix)"
   ]
  },
  {
   "cell_type": "code",
   "execution_count": null,
   "metadata": {},
   "outputs": [],
   "source": [
    "# Arithmetic with matrices\n",
    "sample_matrix*2\n",
    "sample_matrix/2"
   ]
  },
  {
   "cell_type": "code",
   "execution_count": null,
   "metadata": {},
   "outputs": [],
   "source": [
    "#Let us learn how to create data frame\n",
    "import pandas as pd\n",
    "df = pd.DataFrame({'age': [1,2,4,9], \n",
    "                   'Gender': [\"M\", \"F\", \"F\", \"M\"],\n",
    "                   'Income': [5,6,7,3]})"
   ]
  },
  {
   "cell_type": "code",
   "execution_count": null,
   "metadata": {
    "collapsed": true
   },
   "outputs": [],
   "source": [
    "#Rename varaible\n",
    "df = df.rename(columns = {'Gender':'Gender_v1', 'Income':'Income_v1'})"
   ]
  },
  {
   "cell_type": "code",
   "execution_count": null,
   "metadata": {},
   "outputs": [],
   "source": [
    "#Selecting variables from the dataset and making a new dataset\n",
    "from ggplot import mtcars\n",
    "df_mtcars = mtcars\n",
    "df_mtcars_subset = df_mtcars[['hp', 'cyl', 'carb']]"
   ]
  },
  {
   "cell_type": "code",
   "execution_count": null,
   "metadata": {},
   "outputs": [],
   "source": [
    "#selecting the rows with condition; use &\n",
    "df_mtcars_v1 = df_mtcars.ix[(df_mtcars['cyl'] == 6) | (df_mtcars['carb'] == 4)]"
   ]
  },
  {
   "cell_type": "code",
   "execution_count": null,
   "metadata": {
    "collapsed": true
   },
   "outputs": [],
   "source": [
    "#Creating new variable\n",
    "import numpy as np\n",
    "df_mtcars['NewVar'] = np.log2(df_mtcars['cyl'])"
   ]
  },
  {
   "cell_type": "code",
   "execution_count": null,
   "metadata": {},
   "outputs": [],
   "source": [
    "# Adding rows of two data frame\n",
    "d1 = pd.DataFrame({'a' : [3,4,5,6], 'b' : [4,5,6,6]}) #Let us create two data frame to merge\n",
    "d2 = pd.DataFrame({'a' : [5,6,7,8], 'b' : [4,5,7,8]})\n",
    "\n",
    "d3 = d1.append(d2)"
   ]
  },
  {
   "cell_type": "code",
   "execution_count": null,
   "metadata": {
    "collapsed": true
   },
   "outputs": [],
   "source": [
    "#Adding columns \n",
    "d3 = pd.concat([d1.reset_index(drop=True), d2], axis=1)"
   ]
  },
  {
   "cell_type": "code",
   "execution_count": null,
   "metadata": {},
   "outputs": [],
   "source": [
    "#convert each varaible\n",
    "df_mtcars['cyl'] = df_mtcars['cyl'].astype(object)"
   ]
  },
  {
   "cell_type": "code",
   "execution_count": null,
   "metadata": {
    "collapsed": true
   },
   "outputs": [],
   "source": [
    "#convert entire dataframe\n",
    "df_mtcars = df_mtcars.astype(object)"
   ]
  },
  {
   "cell_type": "code",
   "execution_count": null,
   "metadata": {
    "collapsed": true
   },
   "outputs": [],
   "source": [
    "#Convert numeric to categorical/binning\n",
    "df_mtcars['mpgcat']= np.where(df_mtcars['mpg'] > 20, 'Low', 0)"
   ]
  },
  {
   "cell_type": "code",
   "execution_count": null,
   "metadata": {
    "collapsed": true
   },
   "outputs": [],
   "source": [
    "##Sorting in ascending order\n",
    "df_mtcars = df_mtcars.sort_values('mpg', ascending = True)"
   ]
  },
  {
   "cell_type": "code",
   "execution_count": null,
   "metadata": {
    "collapsed": true
   },
   "outputs": [],
   "source": [
    "##Sorting in desceding order\n",
    "df_mtcars = df_mtcars.sort_values('mpg', ascending = False)"
   ]
  },
  {
   "cell_type": "code",
   "execution_count": null,
   "metadata": {},
   "outputs": [],
   "source": [
    "#Merge dataframes\n",
    "df1 = pd.DataFrame({ 'A' : range(1, 6 ,1),\n",
    "                     'B' : np.random.randint(5, 105 , size = 5),\n",
    "                     'C' : ['Toaster','Toaster','Ohio', 'Toaster','Ohio'] })\n",
    "\n",
    "df2 = pd.DataFrame({'A' : [2, 4, 5],\n",
    "                    'Product' : ['Medium', 'Classic', 'Delux']})"
   ]
  },
  {
   "cell_type": "code",
   "execution_count": null,
   "metadata": {
    "collapsed": true
   },
   "outputs": [],
   "source": [
    "#Joins\n",
    "df_left = df1.merge(df2, on = 'A' ,how = 'left')\n",
    "df_right = df1.merge(df2, on = 'A' ,how = 'right')"
   ]
  },
  {
   "cell_type": "code",
   "execution_count": null,
   "metadata": {
    "collapsed": true
   },
   "outputs": [],
   "source": [
    "#replace all values in a varaible\n",
    "x = (\"This is a sentence about axis\")\n",
    "x.replace(\"is\", \"XY\")"
   ]
  }
 ],
 "metadata": {
  "kernelspec": {
   "display_name": "Python 3",
   "language": "python",
   "name": "python3"
  },
  "language_info": {
   "codemirror_mode": {
    "name": "ipython",
    "version": 3
   },
   "file_extension": ".py",
   "mimetype": "text/x-python",
   "name": "python",
   "nbconvert_exporter": "python",
   "pygments_lexer": "ipython3",
   "version": "3.7.0"
  }
 },
 "nbformat": 4,
 "nbformat_minor": 1
}
